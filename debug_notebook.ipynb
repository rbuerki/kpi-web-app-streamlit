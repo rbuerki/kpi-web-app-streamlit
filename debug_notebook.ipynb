{
 "cells": [
  {
   "cell_type": "markdown",
   "metadata": {},
   "source": [
    "# Manual Testing / Debugging\n"
   ]
  },
  {
   "cell_type": "code",
   "execution_count": 1,
   "metadata": {},
   "outputs": [
    {
     "data": {
      "text/plain": [
       "'C:\\\\Users\\\\r2d4\\\\miniconda3\\\\envs\\\\py3\\\\python.exe'"
      ]
     },
     "execution_count": 1,
     "metadata": {},
     "output_type": "execute_result"
    }
   ],
   "source": [
    "import sys\n",
    "sys.executable"
   ]
  },
  {
   "cell_type": "code",
   "execution_count": 31,
   "metadata": {
    "ExecuteTime": {
     "end_time": "2020-06-25T13:20:02.772166Z",
     "start_time": "2020-06-25T13:19:57.381860Z"
    }
   },
   "outputs": [
    {
     "name": "stdout",
     "output_type": "stream",
     "text": [
      "The autoreload extension is already loaded. To reload it, use:\n",
      "  %reload_ext autoreload\n"
     ]
    }
   ],
   "source": [
    "import seaborn as sns\n",
    "from src import helpers, data_dicts\n",
    "\n",
    "%load_ext autoreload\n",
    "%autoreload 2"
   ]
  },
  {
   "cell_type": "markdown",
   "metadata": {},
   "source": [
    "## Load and Clean Data"
   ]
  },
  {
   "cell_type": "code",
   "execution_count": 16,
   "metadata": {},
   "outputs": [
    {
     "data": {
      "text/plain": [
       "(29510, 8)"
      ]
     },
     "execution_count": 16,
     "metadata": {},
     "output_type": "execute_result"
    }
   ],
   "source": [
    "df = helpers.load_data(\"./tests/data/mock_13months_10kpi.csv\")\n",
    "\n",
    "# Check result\n",
    "df.shape"
   ]
  },
  {
   "cell_type": "code",
   "execution_count": 17,
   "metadata": {},
   "outputs": [
    {
     "data": {
      "text/plain": [
       "(29510, 8)"
      ]
     },
     "metadata": {},
     "output_type": "display_data"
    },
    {
     "data": {
      "text/html": [
       "<div>\n",
       "<style scoped>\n",
       "    .dataframe tbody tr th:only-of-type {\n",
       "        vertical-align: middle;\n",
       "    }\n",
       "\n",
       "    .dataframe tbody tr th {\n",
       "        vertical-align: top;\n",
       "    }\n",
       "\n",
       "    .dataframe thead th {\n",
       "        text-align: right;\n",
       "    }\n",
       "</style>\n",
       "<table border=\"1\" class=\"dataframe\">\n",
       "  <thead>\n",
       "    <tr style=\"text-align: right;\">\n",
       "      <th></th>\n",
       "      <th>calculation_date</th>\n",
       "      <th>kpi</th>\n",
       "      <th>period_id</th>\n",
       "      <th>agg_level_id</th>\n",
       "      <th>agg_level_value</th>\n",
       "      <th>value</th>\n",
       "      <th>mandant</th>\n",
       "      <th>profile</th>\n",
       "    </tr>\n",
       "  </thead>\n",
       "  <tbody>\n",
       "    <tr>\n",
       "      <th>0</th>\n",
       "      <td>2020-05-31</td>\n",
       "      <td>Umsatz Total</td>\n",
       "      <td>2</td>\n",
       "      <td>1</td>\n",
       "      <td>Overall</td>\n",
       "      <td>3.743112e+08</td>\n",
       "      <td>Overall</td>\n",
       "      <td>#NV</td>\n",
       "    </tr>\n",
       "    <tr>\n",
       "      <th>1</th>\n",
       "      <td>2020-05-31</td>\n",
       "      <td>Umsatz Total</td>\n",
       "      <td>2</td>\n",
       "      <td>2</td>\n",
       "      <td>KK</td>\n",
       "      <td>2.970695e+06</td>\n",
       "      <td>Overall</td>\n",
       "      <td>CC</td>\n",
       "    </tr>\n",
       "    <tr>\n",
       "      <th>2</th>\n",
       "      <td>2020-05-31</td>\n",
       "      <td>Umsatz Total</td>\n",
       "      <td>2</td>\n",
       "      <td>2</td>\n",
       "      <td>PP</td>\n",
       "      <td>3.713405e+08</td>\n",
       "      <td>Overall</td>\n",
       "      <td>PP</td>\n",
       "    </tr>\n",
       "    <tr>\n",
       "      <th>3</th>\n",
       "      <td>2020-05-31</td>\n",
       "      <td>Umsatz Total</td>\n",
       "      <td>2</td>\n",
       "      <td>3</td>\n",
       "      <td>BCAG KK</td>\n",
       "      <td>1.979233e+05</td>\n",
       "      <td>BCAG</td>\n",
       "      <td>CC</td>\n",
       "    </tr>\n",
       "    <tr>\n",
       "      <th>4</th>\n",
       "      <td>2020-05-31</td>\n",
       "      <td>Umsatz Total</td>\n",
       "      <td>2</td>\n",
       "      <td>3</td>\n",
       "      <td>Bonus Card Verbund KK</td>\n",
       "      <td>7.916932e+05</td>\n",
       "      <td>Bonus Card Verbund</td>\n",
       "      <td>CC</td>\n",
       "    </tr>\n",
       "  </tbody>\n",
       "</table>\n",
       "</div>"
      ],
      "text/plain": [
       "  calculation_date           kpi  period_id  agg_level_id  \\\n",
       "0       2020-05-31  Umsatz Total          2             1   \n",
       "1       2020-05-31  Umsatz Total          2             2   \n",
       "2       2020-05-31  Umsatz Total          2             2   \n",
       "3       2020-05-31  Umsatz Total          2             3   \n",
       "4       2020-05-31  Umsatz Total          2             3   \n",
       "\n",
       "         agg_level_value         value             mandant profile  \n",
       "0                Overall  3.743112e+08             Overall     #NV  \n",
       "1                     KK  2.970695e+06             Overall      CC  \n",
       "2                     PP  3.713405e+08             Overall      PP  \n",
       "3                BCAG KK  1.979233e+05                BCAG      CC  \n",
       "4  Bonus Card Verbund KK  7.916932e+05  Bonus Card Verbund      CC  "
      ]
     },
     "metadata": {},
     "output_type": "display_data"
    }
   ],
   "source": [
    "df = helpers.trim_strings(df)\n",
    "df = helpers.impute_missing_mandant_values(df)\n",
    "df = helpers.impute_missing_profile_values(df)\n",
    "df = helpers.replace_kpi_ids_with_kpi_names(df, data_dicts.kpi_dict)\n",
    "\n",
    "# Check result\n",
    "display(df.shape)\n",
    "display(df.head())"
   ]
  },
  {
   "cell_type": "markdown",
   "metadata": {},
   "source": [
    "## Calculate Diff"
   ]
  },
  {
   "cell_type": "code",
   "execution_count": 19,
   "metadata": {
    "ExecuteTime": {
     "end_time": "2020-06-25T13:10:20.659306Z",
     "start_time": "2020-06-25T13:10:20.537312Z"
    }
   },
   "outputs": [
    {
     "data": {
      "text/plain": [
       "(Timestamp('2020-05-31 00:00:00'), datetime.datetime(2019, 5, 31, 0, 0))"
      ]
     },
     "execution_count": 19,
     "metadata": {},
     "output_type": "execute_result"
    }
   ],
   "source": [
    "periods_diff = helpers.fix_two_periods_for_comparison(df)\n",
    "\n",
    "# Check results\n",
    "periods_diff"
   ]
  },
  {
   "cell_type": "code",
   "execution_count": 29,
   "metadata": {
    "ExecuteTime": {
     "end_time": "2020-06-25T13:18:18.676713Z",
     "start_time": "2020-06-25T13:18:18.543001Z"
    }
   },
   "outputs": [
    {
     "data": {
      "text/plain": [
       "(4540, 8)"
      ]
     },
     "execution_count": 29,
     "metadata": {},
     "output_type": "execute_result"
    }
   ],
   "source": [
    "df_diff = helpers.create_df_diff(df, periods_diff)\n",
    "\n",
    "# Check results\n",
    "df_diff.shape"
   ]
  },
  {
   "cell_type": "code",
   "execution_count": 30,
   "metadata": {
    "ExecuteTime": {
     "end_time": "2020-06-25T13:18:19.676282Z",
     "start_time": "2020-06-25T13:18:19.502283Z"
    }
   },
   "outputs": [
    {
     "data": {
      "text/plain": [
       "(2270, 6)"
      ]
     },
     "metadata": {},
     "output_type": "display_data"
    },
    {
     "data": {
      "text/html": [
       "<div>\n",
       "<style scoped>\n",
       "    .dataframe tbody tr th:only-of-type {\n",
       "        vertical-align: middle;\n",
       "    }\n",
       "\n",
       "    .dataframe tbody tr th {\n",
       "        vertical-align: top;\n",
       "    }\n",
       "\n",
       "    .dataframe thead th {\n",
       "        text-align: right;\n",
       "    }\n",
       "</style>\n",
       "<table border=\"1\" class=\"dataframe\">\n",
       "  <thead>\n",
       "    <tr style=\"text-align: right;\">\n",
       "      <th></th>\n",
       "      <th>kpi</th>\n",
       "      <th>period_id</th>\n",
       "      <th>agg_level_id</th>\n",
       "      <th>agg_level_value</th>\n",
       "      <th>mandant</th>\n",
       "      <th>diff_value</th>\n",
       "    </tr>\n",
       "  </thead>\n",
       "  <tbody>\n",
       "    <tr>\n",
       "      <th>0</th>\n",
       "      <td>Nr. TRX Total</td>\n",
       "      <td>2</td>\n",
       "      <td>1</td>\n",
       "      <td>Overall</td>\n",
       "      <td>Overall</td>\n",
       "      <td>0.467871</td>\n",
       "    </tr>\n",
       "    <tr>\n",
       "      <th>1</th>\n",
       "      <td>Nr. TRX Total</td>\n",
       "      <td>2</td>\n",
       "      <td>2</td>\n",
       "      <td>KK</td>\n",
       "      <td>Overall</td>\n",
       "      <td>1.192588</td>\n",
       "    </tr>\n",
       "    <tr>\n",
       "      <th>2</th>\n",
       "      <td>Nr. TRX Total</td>\n",
       "      <td>2</td>\n",
       "      <td>2</td>\n",
       "      <td>PP</td>\n",
       "      <td>Overall</td>\n",
       "      <td>0.797687</td>\n",
       "    </tr>\n",
       "    <tr>\n",
       "      <th>3</th>\n",
       "      <td>Nr. TRX Total</td>\n",
       "      <td>2</td>\n",
       "      <td>3</td>\n",
       "      <td>BCAG KK</td>\n",
       "      <td>BCAG</td>\n",
       "      <td>1.935336</td>\n",
       "    </tr>\n",
       "    <tr>\n",
       "      <th>4</th>\n",
       "      <td>Nr. TRX Total</td>\n",
       "      <td>2</td>\n",
       "      <td>3</td>\n",
       "      <td>Bonus Card Verbund KK</td>\n",
       "      <td>Bonus Card Verbund</td>\n",
       "      <td>1.127613</td>\n",
       "    </tr>\n",
       "  </tbody>\n",
       "</table>\n",
       "</div>"
      ],
      "text/plain": [
       "             kpi  period_id  agg_level_id        agg_level_value  \\\n",
       "0  Nr. TRX Total          2             1                Overall   \n",
       "1  Nr. TRX Total          2             2                     KK   \n",
       "2  Nr. TRX Total          2             2                     PP   \n",
       "3  Nr. TRX Total          2             3                BCAG KK   \n",
       "4  Nr. TRX Total          2             3  Bonus Card Verbund KK   \n",
       "\n",
       "              mandant  diff_value  \n",
       "0             Overall    0.467871  \n",
       "1             Overall    1.192588  \n",
       "2             Overall    0.797687  \n",
       "3                BCAG    1.935336  \n",
       "4  Bonus Card Verbund    1.127613  "
      ]
     },
     "metadata": {},
     "output_type": "display_data"
    }
   ],
   "source": [
    "df_diff = helpers.pivot_df_diff_periods_to_columns(df_diff)\n",
    "df_diff = helpers.calculate_diff_now_to_then(df_diff)\n",
    "# Check results\n",
    "display(df_diff.shape)\n",
    "display(df_diff.head())\n"
   ]
  },
  {
   "cell_type": "code",
   "execution_count": 33,
   "metadata": {
    "ExecuteTime": {
     "end_time": "2020-06-25T13:20:25.718485Z",
     "start_time": "2020-06-25T13:20:24.854708Z"
    }
   },
   "outputs": [
    {
     "data": {
      "image/png": "[encoded data removed]",
      "text/plain": [
       "<Figure size 432x288 with 1 Axes>"
      ]
     },
     "metadata": {
      "needs_background": "light"
     },
     "output_type": "display_data"
    }
   ],
   "source": [
    "df = helpers.append_diff_value_column_to_original_df(df, df_diff)\n",
    "df = helpers.remove_diff_values_for_non_actual_data(df, periods_diff[0])\n",
    "\n",
    "# Check results\n",
    "sns.heatmap(df.isnull(), yticklabels=False, cbar=False, cmap='viridis');"
   ]
  },
  {
   "cell_type": "code",
   "execution_count": null,
   "metadata": {},
   "outputs": [],
   "source": [
    "# df.to_csv(\"./tests/data/mock_preprocessed.csv\", index=False)"
   ]
  },
  {
   "cell_type": "markdown",
   "metadata": {
    "ExecuteTime": {
     "end_time": "2020-06-26T05:33:11.430090Z",
     "start_time": "2020-06-26T05:33:11.419349Z"
    }
   },
   "source": [
    "## Plotting"
   ]
  },
  {
   "cell_type": "code",
   "execution_count": null,
   "metadata": {},
   "outputs": [],
   "source": []
  }
 ],
 "metadata": {
  "hide_input": false,
  "kernelspec": {
   "display_name": "Python 3",
   "language": "python",
   "name": "python3"
  },
  "language_info": {
   "codemirror_mode": {
    "name": "ipython",
    "version": 3
   },
   "file_extension": ".py",
   "mimetype": "text/x-python",
   "name": "python",
   "nbconvert_exporter": "python",
   "pygments_lexer": "ipython3",
   "version": "3.8.3"
  }
 },
 "nbformat": 4,
 "nbformat_minor": 2
}
